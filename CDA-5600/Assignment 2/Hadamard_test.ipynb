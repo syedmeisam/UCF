{
  "nbformat": 4,
  "nbformat_minor": 0,
  "metadata": {
    "colab": {
      "name": "Hadamard test.ipynb",
      "version": "0.3.2",
      "provenance": [],
      "collapsed_sections": []
    },
    "kernelspec": {
      "name": "python3",
      "display_name": "Python 3"
    }
  },
  "cells": [
    {
      "metadata": {
        "id": "PUmIAidMm79E",
        "colab_type": "code",
        "colab": {}
      },
      "cell_type": "code",
      "source": [
        "import numpy as np\n",
        "import math\n",
        "import scipy.linalg\n",
        "import scipy as sp\n",
        "import matplotlib.pyplot as plt"
      ],
      "execution_count": 0,
      "outputs": []
    },
    {
      "metadata": {
        "id": "uViVewW7vpIe",
        "colab_type": "text"
      },
      "cell_type": "markdown",
      "source": [
        "We define a function to normalize our state to preserve the $l_{2}$ norm."
      ]
    },
    {
      "metadata": {
        "id": "L8e-BQIjvjRz",
        "colab_type": "code",
        "colab": {}
      },
      "cell_type": "code",
      "source": [
        "NormalizeState = lambda state: state / sp.linalg.norm(state)\n",
        "Id = np.eye(2)"
      ],
      "execution_count": 0,
      "outputs": []
    },
    {
      "metadata": {
        "id": "mM2f82NdkiO4",
        "colab_type": "code",
        "colab": {}
      },
      "cell_type": "code",
      "source": [
        "def hadamard_test(U,psi):\n",
        "  # initialize the hadamard gate\n",
        "  hadamard_gate = 1./np.sqrt(2) * np.array([[1, 1],\n",
        "                                     [1, -1]])\n",
        "  \n",
        "  zero = np.array([1,0])\n",
        "  one = np.array([0,1])\n",
        "  \n",
        "  # Apply H to first qubit\n",
        "  anc1 = np.dot(hadamard_gate, zero)\n",
        "\n",
        "  state = np.kron(anc1, psi)\n",
        "  \n",
        "  # Construct the Controlled Gate\n",
        "  gate = np.identity(4)\n",
        "  gate[2:,2:] = U\n",
        "  state = np.dot(gate, state)\n",
        "  \n",
        "  # Apply H to first qubit\n",
        "  h_matrix = np.kron(hadamard_gate, Id)\n",
        "  state = np.dot(h_matrix, state)\n",
        " \n",
        "  # get Projectore for measurement\n",
        "  p0 = np.kron(np.outer(zero, zero.T), Id)\n",
        "  p1 = np.kron(np.outer(one, one.T), Id)\n",
        "  \n",
        "  measure0 = np.dot(p0, state)\n",
        "  measure1 = np.dot(p1, state)\n",
        "  \n",
        "  probability0 = np.dot(measure0, measure0.T)\n",
        "  probability1 = np.dot(measure1, measure1.T)\n",
        "  \n",
        "  return [probability0, probability1]\n"
      ],
      "execution_count": 0,
      "outputs": []
    },
    {
      "metadata": {
        "id": "5BafdT8hLyH4",
        "colab_type": "text"
      },
      "cell_type": "markdown",
      "source": [
        "  Lets initialize U to be the X operator  \\\\\n",
        "  $U= \\begin {pmatrix}0 & 1 \\\\ 1 & 0 \\end{pmatrix} $\n"
      ]
    },
    {
      "metadata": {
        "id": "pObghXYunJmF",
        "colab_type": "code",
        "colab": {}
      },
      "cell_type": "code",
      "source": [
        "U = np.array([[0,1],[1,0]])"
      ],
      "execution_count": 0,
      "outputs": []
    },
    {
      "metadata": {
        "id": "Q5OyyiZrL2cL",
        "colab_type": "text"
      },
      "cell_type": "markdown",
      "source": [
        "Now lets initialize the $\\psi$ state. The overall state is \\begin{equation*}\\frac{1}{\\sqrt(2)}(|0⟩\n",
        " + |1⟩)\\end{equation*}\n",
        " which is also the $|+⟩$ state"
      ]
    },
    {
      "metadata": {
        "id": "gC-l2__4L6h5",
        "colab_type": "code",
        "colab": {}
      },
      "cell_type": "code",
      "source": [
        "zero_state = np.array([1,0])\n",
        "one_state = np.array([0,1])  "
      ],
      "execution_count": 0,
      "outputs": []
    },
    {
      "metadata": {
        "id": "eb_VWnnCQyUh",
        "colab_type": "text"
      },
      "cell_type": "markdown",
      "source": [
        "Now we call the hadamard function, first with $\\psi = \\frac{(|0⟩ + |1⟩)}{\\sqrt{2}}$ and then with $\\psi = \\frac{(|0⟩ - |1⟩)}{\\sqrt{2}}$"
      ]
    },
    {
      "metadata": {
        "id": "qqdWgdHMQ0Qg",
        "colab_type": "code",
        "outputId": "e019c4a9-a660-497c-ccb7-66620cf6f6e2",
        "colab": {
          "base_uri": "https://localhost:8080/",
          "height": 85
        }
      },
      "cell_type": "code",
      "source": [
        "psi = NormalizeState(zero_state + one_state)\n",
        "res = hadamard_test(U, psi)\n",
        "print(\"Result for |+>: \")\n",
        "print(res)\n",
        "\n",
        "psi = NormalizeState(zero_state - one_state)\n",
        "res = hadamard_test(U, psi)\n",
        "print(\"Result for |->: \")\n",
        "print(res)\n"
      ],
      "execution_count": 62,
      "outputs": [
        {
          "output_type": "stream",
          "text": [
            "Result for |+>: \n",
            "[0.9999999999999996, 0.0]\n",
            "Result for |->: \n",
            "[0.0, 0.9999999999999996]\n"
          ],
          "name": "stdout"
        }
      ]
    },
    {
      "metadata": {
        "id": "w6C5043MqVDt",
        "colab_type": "text"
      },
      "cell_type": "markdown",
      "source": [
        "Now we get the probabilities for $U = diag(1,e^{2\\pi i \\phi}$ for $\\phi = [0,1)$ and $\\psi = |1⟩$"
      ]
    },
    {
      "metadata": {
        "id": "lXosI620nNu3",
        "colab_type": "code",
        "colab": {
          "base_uri": "https://localhost:8080/",
          "height": 434
        },
        "outputId": "595a9bf0-1029-48db-c652-e7bfb7703f8e"
      },
      "cell_type": "code",
      "source": [
        "phi = np.arange(0.0, 1.0, 0.05)\n",
        "p0_array = np.zeros(len(phi))\n",
        "p1_array = np.zeros(len(phi))\n",
        "\n",
        "psi = one_state\n",
        "\n",
        "for i in range(0,len(phi)):\n",
        "  U = np.diag([1, np.exp(2*np.pi*1j*phi[i])])\n",
        "  temp = hadamard_test(U, psi)\n",
        "  p0_array[i] = temp[0]\n",
        "  p1_array[i] = temp[1]\n",
        "  \n",
        "plt.plot(phi, p0_array, phi, p1_array)\n",
        "plt.xlabel('$\\\\varphi$')\n",
        "plt.ylabel('Probabilities')\n",
        "plt.title('Hadamard test probabilies for $U=diag(1,exp^{2\\pi i\\\\varphi}$ and $\\psi$ = |1>')"
      ],
      "execution_count": 81,
      "outputs": [
        {
          "output_type": "stream",
          "text": [
            "/usr/local/lib/python3.6/dist-packages/ipykernel_launcher.py:16: ComplexWarning: Casting complex values to real discards the imaginary part\n",
            "  app.launch_new_instance()\n"
          ],
          "name": "stderr"
        },
        {
          "output_type": "execute_result",
          "data": {
            "text/plain": [
              "Text(0.5, 1.0, 'Hadamard test probabilies for $U=diag(1,exp^{2\\\\pi i\\\\varphi}$ and $\\\\psi$ = |1>')"
            ]
          },
          "metadata": {
            "tags": []
          },
          "execution_count": 81
        },
        {
          "output_type": "display_data",
          "data": {
            "image/png": "[encoded data removed]",
            "text/plain": [
              "<Figure size 576x396 with 1 Axes>"
            ]
          },
          "metadata": {
            "tags": []
          }
        }
      ]
    }
  ]
}