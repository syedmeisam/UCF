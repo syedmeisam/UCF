{
  "nbformat": 4,
  "nbformat_minor": 0,
  "metadata": {
    "colab": {
      "name": "Q3.ipynb",
      "version": "0.3.2",
      "provenance": [],
      "collapsed_sections": []
    },
    "kernelspec": {
      "name": "python3",
      "display_name": "Python 3"
    }
  },
  "cells": [
    {
      "metadata": {
        "id": "uPKVd2A0qCXZ",
        "colab_type": "code",
        "colab": {}
      },
      "cell_type": "code",
      "source": [
        "import numpy as np\n",
        "import sys"
      ],
      "execution_count": 0,
      "outputs": []
    },
    {
      "metadata": {
        "id": "YRAAIcrMqJjg",
        "colab_type": "text"
      },
      "cell_type": "markdown",
      "source": [
        "For simulation purposes, we set the dimension for the matrices to be 3."
      ]
    },
    {
      "metadata": {
        "id": "GzE3-6xwqT0r",
        "colab_type": "code",
        "colab": {}
      },
      "cell_type": "code",
      "source": [
        "dimension = 3"
      ],
      "execution_count": 0,
      "outputs": []
    },
    {
      "metadata": {
        "id": "gOZTKHXzxfb3",
        "colab_type": "text"
      },
      "cell_type": "markdown",
      "source": [
        "First we want to construct the matrices. Since the value of X is dependent on 'a', we will initialize that value in our code. For simulation purposes we will take 'a' to be 2. As stated in the pdf, we can write X^a as a combination of kets where each ket is a function of 'a' modulo 'd'. (d is dimension)\n",
        "Z^b on the other hand, is simply a diagonal matrix where each entry along the diagonal is (w^b). For the purpose of proving orthoganility, we can ignore the power of b."
      ]
    },
    {
      "metadata": {
        "id": "ytAcXMNRx7_a",
        "colab_type": "code",
        "colab": {
          "base_uri": "https://localhost:8080/",
          "height": 68
        },
        "outputId": "085fb3c6-9183-4008-d210-11e933386f9e"
      },
      "cell_type": "code",
      "source": [
        "a = 2\n",
        "# initiaizing Z\n",
        "Z = np.identity(dimension)\n",
        "\n",
        "print(Z)"
      ],
      "execution_count": 18,
      "outputs": [
        {
          "output_type": "stream",
          "text": [
            "[[1. 0. 0.]\n",
            " [0. 1. 0.]\n",
            " [0. 0. 1.]]\n"
          ],
          "name": "stdout"
        }
      ]
    },
    {
      "metadata": {
        "id": "hewMi6d62a5-",
        "colab_type": "text"
      },
      "cell_type": "markdown",
      "source": [
        "Next, we will calculate the respective kets of X"
      ]
    },
    {
      "metadata": {
        "id": "O_KZFsBb2d56",
        "colab_type": "code",
        "colab": {
          "base_uri": "https://localhost:8080/",
          "height": 34
        },
        "outputId": "277cc748-8282-4a4a-fd45-1bf864f6ac65"
      },
      "cell_type": "code",
      "source": [
        "ket = [0]*(dimension)\n",
        "for i in range(0, dimension):\n",
        "  ket[i] = (a+i) % dimension\n",
        "print(ket)"
      ],
      "execution_count": 7,
      "outputs": [
        {
          "output_type": "stream",
          "text": [
            "[2, 0, 1]\n"
          ],
          "name": "stdout"
        }
      ]
    },
    {
      "metadata": {
        "id": "UPlbkZxw2sgX",
        "colab_type": "text"
      },
      "cell_type": "markdown",
      "source": [
        "Each entry in the ket array indicates the number of the ket in the X matrix. We will use that to initialize the X matrix"
      ]
    },
    {
      "metadata": {
        "id": "dp_mbeFk3KY0",
        "colab_type": "code",
        "colab": {
          "base_uri": "https://localhost:8080/",
          "height": 68
        },
        "outputId": "afd17b81-f46d-4087-fd85-b60306c79f80"
      },
      "cell_type": "code",
      "source": [
        "X = np.zeros((dimension, dimension))\n",
        "\n",
        "\n",
        "index = 0\n",
        "for i in ket:\n",
        "  X[index][i] = 1\n",
        "  index += 1\n",
        "\n",
        "X = np.transpose(X)\n",
        "print(X)"
      ],
      "execution_count": 12,
      "outputs": [
        {
          "output_type": "stream",
          "text": [
            "[[0. 1. 0.]\n",
            " [0. 0. 1.]\n",
            " [1. 0. 0.]]\n"
          ],
          "name": "stdout"
        }
      ]
    },
    {
      "metadata": {
        "id": "Cp2m9Lp24kDO",
        "colab_type": "text"
      },
      "cell_type": "markdown",
      "source": [
        "Now that our matrices are ready, we only need to show that all of the vectors have dot product equal to 0."
      ]
    },
    {
      "metadata": {
        "id": "oKbfSGo94qCO",
        "colab_type": "code",
        "colab": {
          "base_uri": "https://localhost:8080/",
          "height": 34
        },
        "outputId": "bfaa4122-c64a-413f-c9a5-cf70a7d7be8e"
      },
      "cell_type": "code",
      "source": [
        "prod = 0\n",
        "for i in range(0, dimension):\n",
        "  x = X[i][i]\n",
        "  z = Z[i][i]\n",
        "  prod = prod + (x*z)\n",
        "  \n",
        "if prod == 0:\n",
        "  print(\"X and Z are orthogonal\")\n",
        "else:\n",
        "  print(\"X and Z are not orthogonal\")"
      ],
      "execution_count": 19,
      "outputs": [
        {
          "output_type": "stream",
          "text": [
            "X and Z are orthogonal\n"
          ],
          "name": "stdout"
        }
      ]
    }
  ]
}