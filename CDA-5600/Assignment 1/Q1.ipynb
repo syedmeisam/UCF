{
  "nbformat": 4,
  "nbformat_minor": 0,
  "metadata": {
    "colab": {
      "name": "Q1.ipynb",
      "version": "0.3.2",
      "provenance": [],
      "collapsed_sections": []
    },
    "kernelspec": {
      "name": "python3",
      "display_name": "Python 3"
    }
  },
  "cells": [
    {
      "metadata": {
        "id": "qvWMmZWWWsE3",
        "colab_type": "code",
        "colab": {}
      },
      "cell_type": "code",
      "source": [
        "import numpy as np\n",
        "from numpy.linalg import eig"
      ],
      "execution_count": 0,
      "outputs": []
    },
    {
      "metadata": {
        "id": "Ts3XwF8unDC7",
        "colab_type": "text"
      },
      "cell_type": "markdown",
      "source": [
        "First we initialize the Pauli matrices"
      ]
    },
    {
      "metadata": {
        "id": "ZmIhrna8WtDU",
        "colab_type": "code",
        "colab": {}
      },
      "cell_type": "code",
      "source": [
        "pauliX = np.mat('[0 1;1 0]')\n",
        "pauliY = np.mat('[0 -1j;1j 0]')\n",
        "pauliZ = np.mat('[1 0;0 -1]')"
      ],
      "execution_count": 0,
      "outputs": []
    },
    {
      "metadata": {
        "id": "Z_vs56fwnKwY",
        "colab_type": "text"
      },
      "cell_type": "markdown",
      "source": [
        "Next we get their eigen vetors"
      ]
    },
    {
      "metadata": {
        "id": "iwKM7WZYnOVE",
        "colab_type": "code",
        "colab": {}
      },
      "cell_type": "code",
      "source": [
        "valsX, vecsX = eig(pauliX)\n",
        "valsY, vecsY = eig(pauliY)\n",
        "valsZ, vecsZ = eig(pauliZ)"
      ],
      "execution_count": 0,
      "outputs": []
    },
    {
      "metadata": {
        "id": "azbE8kalnox7",
        "colab_type": "text"
      },
      "cell_type": "markdown",
      "source": [
        "Next, we have to show that the vectors are mutually unbiased. Hence we calculate the dot product with each individual vector of the matrices."
      ]
    },
    {
      "metadata": {
        "id": "0CVheAORn-GE",
        "colab_type": "code",
        "colab": {
          "base_uri": "https://localhost:8080/",
          "height": 34
        },
        "outputId": "81ba1900-001f-4e57-bec7-93dac91c3094"
      },
      "cell_type": "code",
      "source": [
        "vec1 = vecsX\n",
        "vec2 = vecsY\n",
        "dimension = shape1 = np.shape(vec1)[0]\n",
        "\n",
        "flag = True\n",
        "for i in range(0,dimension):\n",
        "        # for each basis vector in vector2\n",
        "        for j in range(0, dimension):\n",
        "            e1 = vec1[i]\n",
        "            e2 = vec2[j]\n",
        "            s = np.square(np.absolute(np.matmul(e1, np.transpose(e2))))\n",
        "            # rounded since the values were not exact 0.5 ~ 0.499999\n",
        "            if np.round(s.item(0, 0), decimals=4) != (1/dimension):\n",
        "                flag = False\n",
        "\n",
        "if flag:\n",
        "  print(\"Vectors are mutually unbiased\")\n",
        "else:\n",
        "  print(\"Vectors are not mutually unbiased\")"
      ],
      "execution_count": 10,
      "outputs": [
        {
          "output_type": "stream",
          "text": [
            "Vectors are mutually unbiased\n"
          ],
          "name": "stdout"
        }
      ]
    },
    {
      "metadata": {
        "id": "37OXH60Jo0gS",
        "colab_type": "text"
      },
      "cell_type": "markdown",
      "source": [
        "Now we repeat the same procedure for {X,Z} and {Y,Z}\n"
      ]
    },
    {
      "metadata": {
        "id": "H2RWzDQ0o71n",
        "colab_type": "code",
        "colab": {}
      },
      "cell_type": "code",
      "source": [
        "vec1 = vecsX\n",
        "vec2 = vecsZ\n",
        "dimension = shape1 = np.shape(vec1)[0]\n",
        "\n",
        "flag = True\n",
        "for i in range(0,dimension):\n",
        "        # for each basis vector in vector2\n",
        "        for j in range(0, dimension):\n",
        "            e1 = vec1[i]\n",
        "            e2 = vec2[j]\n",
        "            s = np.square(np.absolute(np.matmul(e1, np.transpose(e2))))\n",
        "            # rounded since the values were not exact 0.5 ~ 0.499999\n",
        "            if np.round(s.item(0, 0), decimals=4) != (1/dimension):\n",
        "                flag = False\n",
        "\n",
        "if flag:\n",
        "  print(\"Vectors are mutually unbiased\")\n",
        "else:\n",
        "  print(\"Vectors are not mutually unbiased\")"
      ],
      "execution_count": 0,
      "outputs": []
    },
    {
      "metadata": {
        "id": "yw18faN1o_tn",
        "colab_type": "code",
        "colab": {
          "base_uri": "https://localhost:8080/",
          "height": 34
        },
        "outputId": "14329220-3a6e-486b-9fe1-c6fbcb78067f"
      },
      "cell_type": "code",
      "source": [
        "vec1 = vecsY\n",
        "vec2 = vecsZ\n",
        "dimension = shape1 = np.shape(vec1)[0]\n",
        "\n",
        "flag = True\n",
        "for i in range(0,dimension):\n",
        "        # for each basis vector in vector2\n",
        "        for j in range(0, dimension):\n",
        "            e1 = vec1[i]\n",
        "            e2 = vec2[j]\n",
        "            s = np.square(np.absolute(np.matmul(e1, np.transpose(e2))))\n",
        "            # rounded since the values were not exact 0.5 ~ 0.499999\n",
        "            if np.round(s.item(0, 0), decimals=4) != (1/dimension):\n",
        "                flag = False\n",
        "\n",
        "if flag:\n",
        "  print(\"Vectors are mutually unbiased\")\n",
        "else:\n",
        "  print(\"Vectors are not mutually unbiased\")"
      ],
      "execution_count": 11,
      "outputs": [
        {
          "output_type": "stream",
          "text": [
            "Vectors are mutually unbiased\n"
          ],
          "name": "stdout"
        }
      ]
    },
    {
      "metadata": {
        "id": "q7BUl4JqpJLe",
        "colab_type": "text"
      },
      "cell_type": "markdown",
      "source": [
        "Since all combinations of vectors are mutually unbiased, we have shown that the the eigenbasis for the pauli matrices are mutually unbiased."
      ]
    }
  ]
}